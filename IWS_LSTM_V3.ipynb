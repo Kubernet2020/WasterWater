{
  "nbformat": 4,
  "nbformat_minor": 0,
  "metadata": {
    "colab": {
      "name": "IWS_LSTM_V3.ipynb",
      "provenance": []
    },
    "kernelspec": {
      "name": "python3",
      "display_name": "Python 3"
    }
  },
  "cells": [
    {
      "cell_type": "code",
      "metadata": {
        "id": "INi_dBCqdpMV",
        "outputId": "44b7c822-d89e-4ab9-d068-3cf7d2c499fb",
        "colab": {
          "base_uri": "https://localhost:8080/",
          "height": 34
        }
      },
      "source": [
        "from google.colab import drive\n",
        "import os\n",
        "drive.mount('/gdrive')\n",
        "os.chdir(\"/gdrive/My Drive/MLcontent/\")"
      ],
      "execution_count": null,
      "outputs": [
        {
          "output_type": "stream",
          "text": [
            "Mounted at /gdrive\n"
          ],
          "name": "stdout"
        }
      ]
    },
    {
      "cell_type": "code",
      "metadata": {
        "id": "qCNbhhEQd4by",
        "outputId": "9fcc3ea4-4530-4d5f-e9f5-2fa2626b7fca",
        "colab": {
          "base_uri": "https://localhost:8080/",
          "height": 34
        }
      },
      "source": [
        "import tensorflow as tf\n",
        "import numpy as np\n",
        "import matplotlib.pyplot as plt\n",
        "import pandas as pd\n",
        "import random as rn\n",
        "from tensorflow.compat.v1.keras import backend as K\n",
        "print(tf.__version__)"
      ],
      "execution_count": null,
      "outputs": [
        {
          "output_type": "stream",
          "text": [
            "2.3.0\n"
          ],
          "name": "stdout"
        }
      ]
    },
    {
      "cell_type": "code",
      "metadata": {
        "id": "U8ucjb8Td_QW"
      },
      "source": [
        "n = 5\n",
        "np.random.seed(100 * n)\n",
        "rn.seed(10000 * n)\n",
        "#Depending on the actual running environment, you may specify if using GPU, or only CPU.\n",
        "os.environ[\"CUDA_VISIBLE_DEVICES\"] = \"0\"\n",
        "\n",
        "#Tensorflow session configuration.\n",
        "session_conf = tf.compat.v1.ConfigProto(intra_op_parallelism_threads=1,\n",
        "                              inter_op_parallelism_threads=1)\n",
        "\n",
        "tf.compat.v1.set_random_seed(1000 * n)\n",
        "\n",
        "sess = tf.compat.v1.Session(graph=tf.compat.v1.get_default_graph(), config=session_conf)\n",
        "\n",
        "K.set_session(sess)"
      ],
      "execution_count": null,
      "outputs": []
    },
    {
      "cell_type": "code",
      "metadata": {
        "id": "wSSVryR8eGVb"
      },
      "source": [
        "series = pd.read_csv('Wastewater_Data.csv', header=0, parse_dates=[0], index_col=0,squeeze=True)\n",
        "series = series.replace('^\\s*$', np.nan, regex=True)\n",
        "series = series.fillna(method='ffill')\n",
        "series = series.apply(pd.to_numeric)\n"
      ],
      "execution_count": null,
      "outputs": []
    },
    {
      "cell_type": "code",
      "metadata": {
        "id": "Dj7bCdorgiBm"
      },
      "source": [
        "#select feature\n",
        "f = 'Total Solids'\n",
        "\n",
        "TVsize = int(len(series) * 0.6)\n",
        "VTsize = int(len(series) * 0.8)\n",
        "shiftDF = series[f]\n",
        "#select target\n",
        "targetname = 'Total Solids'\n",
        "targetDF = series[targetname]\n",
        "train_data = shiftDF[0:TVsize]\n",
        "train_target = targetDF[0:TVsize]\n",
        "\n",
        "val_data = shiftDF[TVsize:VTsize]\n",
        "val_target = targetDF[TVsize:VTsize]\n",
        "\n",
        "test_data = shiftDF[VTsize:]\n",
        "test_target = targetDF[VTsize:]\n",
        "\n"
      ],
      "execution_count": null,
      "outputs": []
    },
    {
      "cell_type": "code",
      "metadata": {
        "id": "uZs52oieei8F"
      },
      "source": [
        "def windowed_dataset(series, window_size, batch_size, shuffle_buffer):\n",
        "    series = tf.expand_dims(series, axis=-1)\n",
        "    ds = tf.data.Dataset.from_tensor_slices(series)\n",
        "    ds = ds.window(window_size + 1, shift=1, drop_remainder=True)\n",
        "    ds = ds.flat_map(lambda w: w.batch(window_size + 1))\n",
        "    ds = ds.shuffle(shuffle_buffer)\n",
        "    ds = ds.map(lambda w: (w[:-1], w[1:]))\n",
        "    return ds.batch(batch_size).prefetch(1)"
      ],
      "execution_count": null,
      "outputs": []
    },
    {
      "cell_type": "code",
      "metadata": {
        "id": "XorcShdkfUJC"
      },
      "source": [
        "def model_forecast(model, series, window_size):\n",
        "    ds = tf.data.Dataset.from_tensor_slices(series)\n",
        "    ds = ds.window(window_size, shift=1, drop_remainder=True)\n",
        "    ds = ds.flat_map(lambda w: w.batch(window_size))\n",
        "    ds = ds.batch(32).prefetch(1)\n",
        "    forecast = model.predict(ds)\n",
        "    return forecast"
      ],
      "execution_count": null,
      "outputs": []
    },
    {
      "cell_type": "code",
      "metadata": {
        "id": "le3cje1Xfa1Y",
        "outputId": "7d49a762-2508-429a-9633-83153c00bebf",
        "colab": {
          "base_uri": "https://localhost:8080/",
          "height": 1000
        }
      },
      "source": [
        "tf.keras.backend.clear_session()\n",
        "window_size = 3\n",
        "shuffle_buffer_size = 1000\n",
        "train_set = windowed_dataset(train_data, window_size, batch_size=128, shuffle_buffer=shuffle_buffer_size)\n",
        "\n",
        "model = tf.keras.models.Sequential([\n",
        "  tf.keras.layers.Conv1D(filters=32, kernel_size=5,\n",
        "                      strides=1, padding=\"causal\",\n",
        "                      activation=\"relu\",\n",
        "                      input_shape=[None, 1]),\n",
        "  tf.keras.layers.Bidirectional(tf.keras.layers.LSTM(32, return_sequences=True)),\n",
        "  tf.keras.layers.Bidirectional(tf.keras.layers.LSTM(32, return_sequences=True)),\n",
        "  tf.keras.layers.Dense(1),\n",
        "  tf.keras.layers.Lambda(lambda x: x * 200)\n",
        "])\n",
        "lr_schedule = tf.keras.callbacks.LearningRateScheduler(\n",
        "    lambda epoch: 1e-8 * 10**(epoch / 20))\n",
        "optimizer = tf.keras.optimizers.SGD(lr=1e-8, momentum=0.9)\n",
        "model.compile(loss=tf.keras.losses.Huber(),\n",
        "              optimizer=optimizer,\n",
        "              metrics=[\"mae\"])\n",
        "history = model.fit(train_set, epochs=100, callbacks=[lr_schedule])"
      ],
      "execution_count": null,
      "outputs": [
        {
          "output_type": "stream",
          "text": [
            "Epoch 1/100\n",
            "31/31 [==============================] - 0s 13ms/step - loss: 958.1210 - mae: 958.6210\n",
            "Epoch 2/100\n",
            "31/31 [==============================] - 1s 17ms/step - loss: 956.3491 - mae: 956.8491\n",
            "Epoch 3/100\n",
            "31/31 [==============================] - 0s 14ms/step - loss: 954.2474 - mae: 954.7474\n",
            "Epoch 4/100\n",
            "31/31 [==============================] - 0s 14ms/step - loss: 951.9698 - mae: 952.4698\n",
            "Epoch 5/100\n",
            "31/31 [==============================] - 0s 14ms/step - loss: 948.9906 - mae: 949.4907\n",
            "Epoch 6/100\n",
            "31/31 [==============================] - 0s 16ms/step - loss: 944.1930 - mae: 944.6929\n",
            "Epoch 7/100\n",
            "31/31 [==============================] - 1s 17ms/step - loss: 941.7914 - mae: 942.2916\n",
            "Epoch 8/100\n",
            "31/31 [==============================] - 0s 15ms/step - loss: 938.4581 - mae: 938.9579\n",
            "Epoch 9/100\n",
            "31/31 [==============================] - 0s 13ms/step - loss: 929.4637 - mae: 929.9640\n",
            "Epoch 10/100\n",
            "31/31 [==============================] - 0s 14ms/step - loss: 923.1979 - mae: 923.6979\n",
            "Epoch 11/100\n",
            "31/31 [==============================] - 0s 13ms/step - loss: 920.1819 - mae: 920.6819\n",
            "Epoch 12/100\n",
            "31/31 [==============================] - 0s 14ms/step - loss: 917.7001 - mae: 918.2000\n",
            "Epoch 13/100\n",
            "31/31 [==============================] - 0s 13ms/step - loss: 915.1746 - mae: 915.6744\n",
            "Epoch 14/100\n",
            "31/31 [==============================] - 0s 13ms/step - loss: 912.2387 - mae: 912.7389\n",
            "Epoch 15/100\n",
            "31/31 [==============================] - 0s 14ms/step - loss: 907.1758 - mae: 907.6757\n",
            "Epoch 16/100\n",
            "31/31 [==============================] - 0s 14ms/step - loss: 899.9873 - mae: 900.4871\n",
            "Epoch 17/100\n",
            "31/31 [==============================] - 0s 15ms/step - loss: 895.6158 - mae: 896.1160\n",
            "Epoch 18/100\n",
            "31/31 [==============================] - 0s 16ms/step - loss: 891.3687 - mae: 891.8684\n",
            "Epoch 19/100\n",
            "31/31 [==============================] - 0s 13ms/step - loss: 885.5835 - mae: 886.0834\n",
            "Epoch 20/100\n",
            "31/31 [==============================] - 0s 13ms/step - loss: 877.7698 - mae: 878.2697\n",
            "Epoch 21/100\n",
            "31/31 [==============================] - 0s 13ms/step - loss: 865.8824 - mae: 866.3823\n",
            "Epoch 22/100\n",
            "31/31 [==============================] - 0s 14ms/step - loss: 853.7375 - mae: 854.2377\n",
            "Epoch 23/100\n",
            "31/31 [==============================] - 0s 16ms/step - loss: 845.6629 - mae: 846.1631\n",
            "Epoch 24/100\n",
            "31/31 [==============================] - 0s 15ms/step - loss: 834.0493 - mae: 834.5494\n",
            "Epoch 25/100\n",
            "31/31 [==============================] - 0s 15ms/step - loss: 823.3602 - mae: 823.8602\n",
            "Epoch 26/100\n",
            "31/31 [==============================] - 0s 15ms/step - loss: 813.9897 - mae: 814.4896\n",
            "Epoch 27/100\n",
            "31/31 [==============================] - 0s 15ms/step - loss: 802.5667 - mae: 803.0667\n",
            "Epoch 28/100\n",
            "31/31 [==============================] - 0s 13ms/step - loss: 784.7259 - mae: 785.2259\n",
            "Epoch 29/100\n",
            "31/31 [==============================] - 1s 16ms/step - loss: 766.6051 - mae: 767.1052\n",
            "Epoch 30/100\n",
            "31/31 [==============================] - 0s 13ms/step - loss: 750.3110 - mae: 750.8110\n",
            "Epoch 31/100\n",
            "31/31 [==============================] - 0s 14ms/step - loss: 732.2144 - mae: 732.7145\n",
            "Epoch 32/100\n",
            "31/31 [==============================] - 0s 15ms/step - loss: 710.2757 - mae: 710.7757\n",
            "Epoch 33/100\n",
            "31/31 [==============================] - 0s 14ms/step - loss: 684.2380 - mae: 684.7380\n",
            "Epoch 34/100\n",
            "31/31 [==============================] - 0s 16ms/step - loss: 657.5631 - mae: 658.0633\n",
            "Epoch 35/100\n",
            "31/31 [==============================] - 0s 14ms/step - loss: 627.9238 - mae: 628.4240\n",
            "Epoch 36/100\n",
            "31/31 [==============================] - 0s 15ms/step - loss: 593.9869 - mae: 594.4870\n",
            "Epoch 37/100\n",
            "31/31 [==============================] - 0s 14ms/step - loss: 554.9062 - mae: 555.4061\n",
            "Epoch 38/100\n",
            "31/31 [==============================] - 0s 14ms/step - loss: 509.7246 - mae: 510.2245\n",
            "Epoch 39/100\n",
            "31/31 [==============================] - 0s 15ms/step - loss: 457.7497 - mae: 458.2497\n",
            "Epoch 40/100\n",
            "31/31 [==============================] - 0s 14ms/step - loss: 397.5534 - mae: 398.0533\n",
            "Epoch 41/100\n",
            "31/31 [==============================] - 0s 14ms/step - loss: 330.1710 - mae: 330.6710\n",
            "Epoch 42/100\n",
            "31/31 [==============================] - 0s 15ms/step - loss: 259.9850 - mae: 260.4848\n",
            "Epoch 43/100\n",
            "31/31 [==============================] - 0s 14ms/step - loss: 197.2444 - mae: 197.7438\n",
            "Epoch 44/100\n",
            "31/31 [==============================] - 0s 16ms/step - loss: 162.6040 - mae: 163.1032\n",
            "Epoch 45/100\n",
            "31/31 [==============================] - 0s 16ms/step - loss: 153.1626 - mae: 153.6620\n",
            "Epoch 46/100\n",
            "31/31 [==============================] - 1s 17ms/step - loss: 151.3283 - mae: 151.8275\n",
            "Epoch 47/100\n",
            "31/31 [==============================] - 1s 17ms/step - loss: 149.5185 - mae: 150.0178\n",
            "Epoch 48/100\n",
            "31/31 [==============================] - 0s 14ms/step - loss: 148.1737 - mae: 148.6728\n",
            "Epoch 49/100\n",
            "31/31 [==============================] - 0s 14ms/step - loss: 147.1175 - mae: 147.6166\n",
            "Epoch 50/100\n",
            "31/31 [==============================] - 0s 14ms/step - loss: 146.6880 - mae: 147.1871\n",
            "Epoch 51/100\n",
            "31/31 [==============================] - 0s 13ms/step - loss: 146.5711 - mae: 147.0702\n",
            "Epoch 52/100\n",
            "31/31 [==============================] - 0s 14ms/step - loss: 146.5775 - mae: 147.0766\n",
            "Epoch 53/100\n",
            "31/31 [==============================] - 0s 14ms/step - loss: 146.2558 - mae: 146.7549\n",
            "Epoch 54/100\n",
            "31/31 [==============================] - 0s 15ms/step - loss: 146.0845 - mae: 146.5838\n",
            "Epoch 55/100\n",
            "31/31 [==============================] - 0s 16ms/step - loss: 146.9364 - mae: 147.4359\n",
            "Epoch 56/100\n",
            "31/31 [==============================] - 0s 14ms/step - loss: 146.5490 - mae: 147.0479\n",
            "Epoch 57/100\n",
            "31/31 [==============================] - 1s 16ms/step - loss: 146.3461 - mae: 146.8455\n",
            "Epoch 58/100\n",
            "31/31 [==============================] - 0s 14ms/step - loss: 150.5447 - mae: 151.0436\n",
            "Epoch 59/100\n",
            "31/31 [==============================] - 0s 13ms/step - loss: 147.2562 - mae: 147.7554\n",
            "Epoch 60/100\n",
            "31/31 [==============================] - 0s 13ms/step - loss: 147.4199 - mae: 147.9191\n",
            "Epoch 61/100\n",
            "31/31 [==============================] - 0s 14ms/step - loss: 147.3295 - mae: 147.8288\n",
            "Epoch 62/100\n",
            "31/31 [==============================] - 0s 15ms/step - loss: 146.2240 - mae: 146.7233\n",
            "Epoch 63/100\n",
            "31/31 [==============================] - 0s 16ms/step - loss: 146.1192 - mae: 146.6184\n",
            "Epoch 64/100\n",
            "31/31 [==============================] - 0s 14ms/step - loss: 147.0533 - mae: 147.5526\n",
            "Epoch 65/100\n",
            "31/31 [==============================] - 0s 14ms/step - loss: 146.1081 - mae: 146.6076\n",
            "Epoch 66/100\n",
            "31/31 [==============================] - 1s 17ms/step - loss: 146.5929 - mae: 147.0921\n",
            "Epoch 67/100\n",
            "31/31 [==============================] - 0s 13ms/step - loss: 145.7926 - mae: 146.2919\n",
            "Epoch 68/100\n",
            "31/31 [==============================] - 0s 14ms/step - loss: 145.6886 - mae: 146.1879\n",
            "Epoch 69/100\n",
            "31/31 [==============================] - 0s 14ms/step - loss: 147.3859 - mae: 147.8851\n",
            "Epoch 70/100\n",
            "31/31 [==============================] - 0s 13ms/step - loss: 149.9024 - mae: 150.4015\n",
            "Epoch 71/100\n",
            "31/31 [==============================] - 0s 14ms/step - loss: 147.6645 - mae: 148.1638\n",
            "Epoch 72/100\n",
            "31/31 [==============================] - 0s 16ms/step - loss: 148.0369 - mae: 148.5363\n",
            "Epoch 73/100\n",
            "31/31 [==============================] - 0s 14ms/step - loss: 147.1598 - mae: 147.6589\n",
            "Epoch 74/100\n",
            "31/31 [==============================] - 0s 14ms/step - loss: 147.4863 - mae: 147.9851\n",
            "Epoch 75/100\n",
            "31/31 [==============================] - 0s 14ms/step - loss: 147.6411 - mae: 148.1403\n",
            "Epoch 76/100\n",
            "31/31 [==============================] - 0s 15ms/step - loss: 148.2634 - mae: 148.7626\n",
            "Epoch 77/100\n",
            "31/31 [==============================] - 0s 14ms/step - loss: 149.8799 - mae: 150.3787\n",
            "Epoch 78/100\n",
            "31/31 [==============================] - 0s 15ms/step - loss: 151.0984 - mae: 151.5976\n",
            "Epoch 79/100\n",
            "31/31 [==============================] - 0s 13ms/step - loss: 150.6370 - mae: 151.1359\n",
            "Epoch 80/100\n",
            "31/31 [==============================] - 0s 13ms/step - loss: 148.6047 - mae: 149.1040\n",
            "Epoch 81/100\n",
            "31/31 [==============================] - 0s 13ms/step - loss: 147.9604 - mae: 148.4595\n",
            "Epoch 82/100\n",
            "31/31 [==============================] - 0s 14ms/step - loss: 148.0995 - mae: 148.5988\n",
            "Epoch 83/100\n",
            "31/31 [==============================] - 0s 15ms/step - loss: 153.2427 - mae: 153.7418\n",
            "Epoch 84/100\n",
            "31/31 [==============================] - 0s 14ms/step - loss: 156.8006 - mae: 157.2997\n",
            "Epoch 85/100\n",
            "31/31 [==============================] - 0s 13ms/step - loss: 158.8154 - mae: 159.3145\n",
            "Epoch 86/100\n",
            "31/31 [==============================] - 0s 16ms/step - loss: 151.8465 - mae: 152.3458\n",
            "Epoch 87/100\n",
            "31/31 [==============================] - 0s 14ms/step - loss: 151.8852 - mae: 152.3844\n",
            "Epoch 88/100\n",
            "31/31 [==============================] - 0s 16ms/step - loss: 151.1953 - mae: 151.6945\n",
            "Epoch 89/100\n",
            "31/31 [==============================] - 0s 13ms/step - loss: 151.6768 - mae: 152.1758\n",
            "Epoch 90/100\n",
            "31/31 [==============================] - 0s 16ms/step - loss: 152.3664 - mae: 152.8657\n",
            "Epoch 91/100\n",
            "31/31 [==============================] - 0s 14ms/step - loss: 152.5985 - mae: 153.0979\n",
            "Epoch 92/100\n",
            "31/31 [==============================] - 0s 14ms/step - loss: 150.5238 - mae: 151.0228\n",
            "Epoch 93/100\n",
            "31/31 [==============================] - 1s 17ms/step - loss: 151.4052 - mae: 151.9044\n",
            "Epoch 94/100\n",
            "31/31 [==============================] - 0s 15ms/step - loss: 150.7157 - mae: 151.2150\n",
            "Epoch 95/100\n",
            "31/31 [==============================] - 0s 14ms/step - loss: 150.1741 - mae: 150.6735\n",
            "Epoch 96/100\n",
            "31/31 [==============================] - 0s 14ms/step - loss: 149.8841 - mae: 150.3832\n",
            "Epoch 97/100\n",
            "31/31 [==============================] - 0s 13ms/step - loss: 152.1616 - mae: 152.6607\n",
            "Epoch 98/100\n",
            "31/31 [==============================] - 0s 14ms/step - loss: 150.4304 - mae: 150.9297\n",
            "Epoch 99/100\n",
            "31/31 [==============================] - 0s 14ms/step - loss: 150.8179 - mae: 151.3169\n",
            "Epoch 100/100\n",
            "31/31 [==============================] - 0s 14ms/step - loss: 150.3765 - mae: 150.8755\n"
          ],
          "name": "stdout"
        }
      ]
    },
    {
      "cell_type": "code",
      "metadata": {
        "id": "VvghlJkLjW6S",
        "outputId": "59116d1c-bca3-4771-c03c-aa5fe27c13bd",
        "colab": {
          "base_uri": "https://localhost:8080/",
          "height": 286
        }
      },
      "source": [
        "plt.semilogx(history.history[\"lr\"], history.history[\"loss\"])\n",
        "#plt.axis([1e-8, 1e-4, 0, 30])\n"
      ],
      "execution_count": null,
      "outputs": [
        {
          "output_type": "execute_result",
          "data": {
            "text/plain": [
              "[<matplotlib.lines.Line2D at 0x7fef40000eb8>]"
            ]
          },
          "metadata": {
            "tags": []
          },
          "execution_count": 21
        },
        {
          "output_type": "display_data",
          "data": {
            "image/png": "[encoded data removed]",
            "text/plain": [
              "<Figure size 432x288 with 1 Axes>"
            ]
          },
          "metadata": {
            "tags": [],
            "needs_background": "light"
          }
        }
      ]
    },
    {
      "cell_type": "code",
      "metadata": {
        "id": "CuBQy8vjfo4O",
        "outputId": "ae9030e7-e462-4b0e-dac5-24ce2afd78b0",
        "colab": {
          "base_uri": "https://localhost:8080/",
          "height": 34
        }
      },
      "source": [
        "train_set"
      ],
      "execution_count": null,
      "outputs": [
        {
          "output_type": "execute_result",
          "data": {
            "text/plain": [
              "<PrefetchDataset shapes: ((None, None, 1), (None, None, 1)), types: (tf.float64, tf.float64)>"
            ]
          },
          "metadata": {
            "tags": []
          },
          "execution_count": 55
        }
      ]
    },
    {
      "cell_type": "code",
      "metadata": {
        "id": "MMkBcUf4iPUP",
        "outputId": "a0332df3-d9f8-4c5c-8f20-d4867cfd658e",
        "colab": {
          "base_uri": "https://localhost:8080/",
          "height": 1000
        }
      },
      "source": [
        "tf.keras.backend.clear_session()\n",
        "tf.random.set_seed(51)\n",
        "np.random.seed(51)\n",
        "batch_size = 7\n",
        "dataset = windowed_dataset(train_data, window_size, batch_size, shuffle_buffer_size)\n",
        "\n",
        "model = tf.keras.models.Sequential([\n",
        "  tf.keras.layers.Conv1D(filters=32, kernel_size=3,\n",
        "                      strides=1, padding=\"causal\",\n",
        "                      activation=\"relu\",\n",
        "                      input_shape=[None, 1]),\n",
        "  tf.keras.layers.LSTM(32, return_sequences=True),\n",
        "  tf.keras.layers.LSTM(32, return_sequences=True),\n",
        "  tf.keras.layers.Dense(1),\n",
        "  tf.keras.layers.Lambda(lambda x: x * 200)\n",
        "])\n",
        "\n",
        "optimizer = tf.keras.optimizers.SGD(lr=3e-6, momentum=0.9)\n",
        "model.compile(loss=tf.keras.losses.Huber(),\n",
        "              optimizer=optimizer,\n",
        "              metrics=[\"mae\"])\n",
        "history = model.fit(dataset,epochs=50)"
      ],
      "execution_count": null,
      "outputs": [
        {
          "output_type": "stream",
          "text": [
            "Epoch 1/50\n",
            "563/563 [==============================] - 3s 6ms/step - loss: 385.7039 - mae: 386.2035\n",
            "Epoch 2/50\n",
            "563/563 [==============================] - 4s 7ms/step - loss: 157.6829 - mae: 158.1819\n",
            "Epoch 3/50\n",
            "563/563 [==============================] - 4s 7ms/step - loss: 150.5436 - mae: 151.0426\n",
            "Epoch 4/50\n",
            "563/563 [==============================] - 3s 5ms/step - loss: 149.6576 - mae: 150.1567\n",
            "Epoch 5/50\n",
            "563/563 [==============================] - 3s 5ms/step - loss: 149.3451 - mae: 149.8443\n",
            "Epoch 6/50\n",
            "563/563 [==============================] - 3s 5ms/step - loss: 149.0716 - mae: 149.5705\n",
            "Epoch 7/50\n",
            "563/563 [==============================] - 3s 5ms/step - loss: 149.1812 - mae: 149.6805\n",
            "Epoch 8/50\n",
            "563/563 [==============================] - 3s 5ms/step - loss: 148.9802 - mae: 149.4794\n",
            "Epoch 9/50\n",
            "563/563 [==============================] - 3s 5ms/step - loss: 148.9817 - mae: 149.4809\n",
            "Epoch 10/50\n",
            "563/563 [==============================] - 3s 5ms/step - loss: 148.8690 - mae: 149.3681\n",
            "Epoch 11/50\n",
            "563/563 [==============================] - 3s 5ms/step - loss: 149.0315 - mae: 149.5306\n",
            "Epoch 12/50\n",
            "563/563 [==============================] - 3s 5ms/step - loss: 148.9905 - mae: 149.4899\n",
            "Epoch 13/50\n",
            "563/563 [==============================] - 3s 5ms/step - loss: 149.2307 - mae: 149.7301\n",
            "Epoch 14/50\n",
            "563/563 [==============================] - 3s 5ms/step - loss: 149.2218 - mae: 149.7207\n",
            "Epoch 15/50\n",
            "563/563 [==============================] - 3s 5ms/step - loss: 149.1090 - mae: 149.6084\n",
            "Epoch 16/50\n",
            "563/563 [==============================] - 3s 5ms/step - loss: 149.2082 - mae: 149.7074\n",
            "Epoch 17/50\n",
            "563/563 [==============================] - 3s 5ms/step - loss: 149.1431 - mae: 149.6423\n",
            "Epoch 18/50\n",
            "563/563 [==============================] - 3s 5ms/step - loss: 149.1397 - mae: 149.6391\n",
            "Epoch 19/50\n",
            "563/563 [==============================] - 3s 5ms/step - loss: 149.0527 - mae: 149.5517\n",
            "Epoch 20/50\n",
            "563/563 [==============================] - 3s 5ms/step - loss: 149.0799 - mae: 149.5793\n",
            "Epoch 21/50\n",
            "563/563 [==============================] - 3s 5ms/step - loss: 149.1353 - mae: 149.6346\n",
            "Epoch 22/50\n",
            "563/563 [==============================] - 3s 5ms/step - loss: 149.0476 - mae: 149.5469\n",
            "Epoch 23/50\n",
            "563/563 [==============================] - 3s 5ms/step - loss: 149.4937 - mae: 149.9929\n",
            "Epoch 24/50\n",
            "563/563 [==============================] - 3s 5ms/step - loss: 149.4374 - mae: 149.9366\n",
            "Epoch 25/50\n",
            "563/563 [==============================] - 3s 5ms/step - loss: 149.3711 - mae: 149.8704\n",
            "Epoch 26/50\n",
            "563/563 [==============================] - 3s 5ms/step - loss: 149.0396 - mae: 149.5386\n",
            "Epoch 27/50\n",
            "563/563 [==============================] - 3s 5ms/step - loss: 149.0524 - mae: 149.5517\n",
            "Epoch 28/50\n",
            "563/563 [==============================] - 3s 5ms/step - loss: 149.0561 - mae: 149.5550\n",
            "Epoch 29/50\n",
            "563/563 [==============================] - 3s 5ms/step - loss: 149.9910 - mae: 150.4901\n",
            "Epoch 30/50\n",
            "563/563 [==============================] - 3s 5ms/step - loss: 151.5176 - mae: 152.0167\n",
            "Epoch 31/50\n",
            "563/563 [==============================] - 3s 5ms/step - loss: 151.3913 - mae: 151.8902\n",
            "Epoch 32/50\n",
            "563/563 [==============================] - 3s 5ms/step - loss: 151.8838 - mae: 152.3829\n",
            "Epoch 33/50\n",
            "563/563 [==============================] - 3s 5ms/step - loss: 150.2762 - mae: 150.7753\n",
            "Epoch 34/50\n",
            "563/563 [==============================] - 3s 5ms/step - loss: 149.6418 - mae: 150.1409\n",
            "Epoch 35/50\n",
            "563/563 [==============================] - 3s 5ms/step - loss: 149.0457 - mae: 149.5449\n",
            "Epoch 36/50\n",
            "563/563 [==============================] - 3s 5ms/step - loss: 149.2888 - mae: 149.7877\n",
            "Epoch 37/50\n",
            "563/563 [==============================] - 3s 5ms/step - loss: 149.1370 - mae: 149.6363\n",
            "Epoch 38/50\n",
            "563/563 [==============================] - 3s 5ms/step - loss: 148.9352 - mae: 149.4339\n",
            "Epoch 39/50\n",
            "563/563 [==============================] - 3s 4ms/step - loss: 149.3257 - mae: 149.8246\n",
            "Epoch 40/50\n",
            "563/563 [==============================] - 3s 5ms/step - loss: 148.9021 - mae: 149.4011\n",
            "Epoch 41/50\n",
            "563/563 [==============================] - 3s 5ms/step - loss: 149.0423 - mae: 149.5413\n",
            "Epoch 42/50\n",
            "563/563 [==============================] - 3s 5ms/step - loss: 149.0988 - mae: 149.5981\n",
            "Epoch 43/50\n",
            "563/563 [==============================] - 3s 5ms/step - loss: 149.0711 - mae: 149.5705\n",
            "Epoch 44/50\n",
            "563/563 [==============================] - 3s 5ms/step - loss: 149.0064 - mae: 149.5058\n",
            "Epoch 45/50\n",
            "563/563 [==============================] - 3s 5ms/step - loss: 149.0241 - mae: 149.5234\n",
            "Epoch 46/50\n",
            "563/563 [==============================] - 3s 5ms/step - loss: 149.0866 - mae: 149.5860\n",
            "Epoch 47/50\n",
            "563/563 [==============================] - 3s 5ms/step - loss: 148.9020 - mae: 149.4012\n",
            "Epoch 48/50\n",
            "563/563 [==============================] - 3s 5ms/step - loss: 149.1532 - mae: 149.6526\n",
            "Epoch 49/50\n",
            "563/563 [==============================] - 3s 5ms/step - loss: 149.0169 - mae: 149.5163\n",
            "Epoch 50/50\n",
            "563/563 [==============================] - 3s 5ms/step - loss: 149.0881 - mae: 149.5872\n"
          ],
          "name": "stdout"
        }
      ]
    }
  ]
}